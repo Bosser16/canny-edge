{
 "cells": [
  {
   "cell_type": "markdown",
   "id": "3c41b10f-78ce-41fd-a27b-4aa302f49aff",
   "metadata": {},
   "source": [
    "## Installation\n",
    "```\n",
    "conda install jupyter numpy pip opencv matplotlib scipy\n",
    "pip install pyvista[all]\n",
    "```\n",
    "## Required data\n",
    "Download the following files to this directory:\n",
    "```\n",
    "HeadMRVolume.raw\n",
    "T2.raw\n",
    "ctscan_ez.vtk\n",
    "```"
   ]
  },
  {
   "cell_type": "code",
   "execution_count": null,
   "id": "0b83511a-2a5e-4510-8174-78fcc9595230",
   "metadata": {},
   "outputs": [],
   "source": [
    "import numpy as np\n",
    "import matplotlib.pyplot as plt\n",
    "import pyvista as pv\n",
    "\n",
    "from ipywidgets import fixed\n",
    "import ipywidgets as widgets\n",
    "\n",
    "from cannybase import get_edge_data"
   ]
  },
  {
   "cell_type": "code",
   "execution_count": null,
   "id": "7e7aa089-dd91-4500-8ca9-5d0ac78cdd3f",
   "metadata": {},
   "outputs": [],
   "source": [
    "def plot_volume(data, plotter=None, spacing=None):\n",
    "    if plotter is None:\n",
    "        plotter = pv.Plotter()\n",
    "    else:\n",
    "        plotter.clear()\n",
    "    mesh = pv.wrap(data)\n",
    "    if spacing:\n",
    "        mesh.spacing = spacing\n",
    "    plotter.add_volume(mesh)\n",
    "    return plotter"
   ]
  },
  {
   "cell_type": "code",
   "execution_count": null,
   "id": "f9a54481-adcc-4bce-abf7-40d941676274",
   "metadata": {},
   "outputs": [],
   "source": [
    "def interact_edge_data(data, gaussian, thresholds, min_axes, plotter, spacing=None):\n",
    "    print(f'\\rUpdating with {gaussian=}, {thresholds=}, {min_axes=}...', end='')\n",
    "    edge_data = get_edge_data(data, thresholds[0], thresholds[1], min_axes, gaussian)\n",
    "    plot_volume(edge_data, plotter, spacing)\n",
    "    print(f'\\rUpdated with {gaussian=}, {thresholds=}, {min_axes=}. Number of edge points: {edge_data.size - np.isnan(edge_data).sum()}.', end='')"
   ]
  },
  {
   "cell_type": "markdown",
   "id": "24399832-c5a2-4ddb-b963-617a5842556e",
   "metadata": {},
   "source": [
    "## `HeadMRVolume.raw`"
   ]
  },
  {
   "cell_type": "code",
   "execution_count": null,
   "id": "1e276658-e1f2-4ffb-8d2f-a4c223bf936e",
   "metadata": {},
   "outputs": [],
   "source": [
    "headmr_data = np.fromfile('HeadMRVolume.raw', dtype='uint8')\n",
    "headmr_data = headmr_data.reshape(42, 62, 48)"
   ]
  },
  {
   "cell_type": "markdown",
   "id": "b78c8e3d-384b-4018-b9a4-e1cdb51f7f6e",
   "metadata": {},
   "source": [
    "Original Data"
   ]
  },
  {
   "cell_type": "code",
   "execution_count": null,
   "id": "8f7da961-b743-4c3a-95d8-9d98ad20f83e",
   "metadata": {},
   "outputs": [],
   "source": [
    "pl = plot_volume(headmr_data)\n",
    "pl.show()"
   ]
  },
  {
   "cell_type": "markdown",
   "id": "c6caefcb-1ee4-4a96-9b2a-c5e66120ae76",
   "metadata": {},
   "source": [
    "Edges Only"
   ]
  },
  {
   "cell_type": "code",
   "execution_count": null,
   "id": "4f0f4cf3-5a4a-445b-97f5-9ffb2bebf3b0",
   "metadata": {},
   "outputs": [],
   "source": [
    "gaussian_widget = widgets.FloatSlider(\n",
    "    min=0,\n",
    "    max=7,\n",
    "    value=0,\n",
    "    description='Gaussian SD'\n",
    ")\n",
    "\n",
    "threshold_widget = widgets.IntRangeSlider(\n",
    "    min=0,\n",
    "    max=255,\n",
    "    value=(255,255),\n",
    "    description='Canny Thresholds'\n",
    ")\n",
    "\n",
    "min_axes_widget = widgets.IntSlider(\n",
    "    min=0,\n",
    "    max=3,\n",
    "    description='Min Axes'\n",
    ")\n",
    "\n",
    "pl = plot_volume(headmr_data)\n",
    "\n",
    "\n",
    "widgets.interact(\n",
    "    interact_edge_data, \n",
    "    data=fixed(headmr_data), \n",
    "    gaussian=gaussian_widget,\n",
    "    thresholds=threshold_widget, \n",
    "    min_axes=min_axes_widget, \n",
    "    plotter=fixed(pl), \n",
    "    spacing=fixed(None)\n",
    ")\n",
    "pl.show()"
   ]
  },
  {
   "cell_type": "markdown",
   "id": "b94a600a-1038-46e7-af0b-a35316f3278e",
   "metadata": {},
   "source": [
    "## `T2.raw`"
   ]
  },
  {
   "cell_type": "code",
   "execution_count": null,
   "id": "5a08ec89-fe07-40c0-9505-8b7b7c366ddc",
   "metadata": {},
   "outputs": [],
   "source": [
    "t2_data = np.fromfile('T2.raw', dtype='float32')\n",
    "t2_data = t2_data.reshape(320, 320, 256)"
   ]
  },
  {
   "cell_type": "markdown",
   "id": "010cb66f-9f15-464c-9c80-7fec168ee339",
   "metadata": {},
   "source": [
    "Original Data"
   ]
  },
  {
   "cell_type": "code",
   "execution_count": null,
   "id": "0b833278-8186-4960-aff3-6c624ed0a438",
   "metadata": {},
   "outputs": [],
   "source": [
    "pl = plot_volume(t2_data)\n",
    "pl.show()"
   ]
  },
  {
   "cell_type": "markdown",
   "id": "6cd5a8dc-f074-40f6-bb33-ad2b96e197de",
   "metadata": {},
   "source": [
    "Edges Only"
   ]
  },
  {
   "cell_type": "code",
   "execution_count": null,
   "id": "ee950ee8-7538-4e58-a807-fede81b651d1",
   "metadata": {},
   "outputs": [],
   "source": [
    "gaussian_widget = widgets.FloatSlider(\n",
    "    min=0,\n",
    "    max=7,\n",
    "    value=0,\n",
    "    description='Gaussian SD'\n",
    ")\n",
    "\n",
    "threshold_widget = widgets.IntRangeSlider(\n",
    "    min=0,\n",
    "    max=255,\n",
    "    value=(255,255),\n",
    "    description='Canny Thresholds'\n",
    ")\n",
    "\n",
    "min_axes_widget = widgets.IntSlider(\n",
    "    min=0,\n",
    "    max=3,\n",
    "    description='Min Axes'\n",
    ")\n",
    "\n",
    "pl = plot_volume(t2_data)\n",
    "\n",
    "\n",
    "widgets.interact(\n",
    "    interact_edge_data, \n",
    "    data=fixed(t2_data), \n",
    "    gaussian=gaussian_widget,\n",
    "    thresholds=threshold_widget, \n",
    "    min_axes=min_axes_widget, \n",
    "    plotter=fixed(pl), \n",
    "    spacing=fixed(None)\n",
    ")\n",
    "pl.show()"
   ]
  },
  {
   "cell_type": "markdown",
   "id": "8976c467-12d5-4997-b481-e5b13015f48c",
   "metadata": {},
   "source": [
    "## `ctscan_ez.vtk`"
   ]
  },
  {
   "cell_type": "code",
   "execution_count": null,
   "id": "73fe4999-f21c-49ec-a442-fa2088629953",
   "metadata": {},
   "outputs": [],
   "source": [
    "ctscan = pv.read('ctscan_ez.vtk')\n",
    "ctscan"
   ]
  },
  {
   "cell_type": "code",
   "execution_count": null,
   "id": "95316a33-a6dd-4764-8db9-80051871553e",
   "metadata": {},
   "outputs": [],
   "source": [
    "ctscan.dimensions"
   ]
  },
  {
   "cell_type": "markdown",
   "id": "62878478-8339-4c21-b0c8-773036fe39e3",
   "metadata": {},
   "source": [
    "Original Data"
   ]
  },
  {
   "cell_type": "code",
   "execution_count": null,
   "id": "3001bc9a-9110-45fd-aca3-947c3e30c9b0",
   "metadata": {},
   "outputs": [],
   "source": [
    "pl = pv.Plotter()\n",
    "pl.add_volume(ctscan)\n",
    "pl.show()"
   ]
  },
  {
   "cell_type": "code",
   "execution_count": null,
   "id": "d73a13fe-236f-4076-8f8d-502a7b18d9da",
   "metadata": {},
   "outputs": [],
   "source": [
    "# Get the underlying data as a Numpy array\n",
    "# PyVista stores the z-axis first, but we want the x-axis first in the Numpy array\n",
    "ctscan_data = ctscan.point_data['image_data'].reshape(ctscan.dimensions[2], ctscan.dimensions[1], ctscan.dimensions[0])\n",
    "ctscan_data = np.ndarray.copy(np.swapaxes(ctscan_data, 0, 2))"
   ]
  },
  {
   "cell_type": "code",
   "execution_count": null,
   "id": "2ab50244-e550-4d2f-935d-74760f9eceb0",
   "metadata": {},
   "outputs": [],
   "source": [
    "pl = plot_volume(ctscan_data, spacing=ctscan.spacing)\n",
    "pl.show()"
   ]
  },
  {
   "cell_type": "markdown",
   "id": "353a15b2-62b2-4e4d-9bbf-aadbb03d054c",
   "metadata": {},
   "source": [
    "Edges Only"
   ]
  },
  {
   "cell_type": "code",
   "execution_count": null,
   "id": "dbd108b9-c798-4794-9fa3-3d9ab9e0b909",
   "metadata": {},
   "outputs": [],
   "source": [
    "gaussian_widget = widgets.FloatSlider(\n",
    "    min=0,\n",
    "    max=7,\n",
    "    value=0,\n",
    "    description='Gaussian SD'\n",
    ")\n",
    "\n",
    "threshold_widget = widgets.IntRangeSlider(\n",
    "    min=0,\n",
    "    max=255,\n",
    "    value=(255,255),\n",
    "    description='Canny Thresholds'\n",
    ")\n",
    "\n",
    "min_axes_widget = widgets.IntSlider(\n",
    "    min=0,\n",
    "    max=3,\n",
    "    description='Min Axes'\n",
    ")\n",
    "\n",
    "pl = plot_volume(ctscan_data, spacing=ctscan.spacing)\n",
    "\n",
    "\n",
    "widgets.interact(\n",
    "    interact_edge_data, \n",
    "    data=fixed(ctscan_data), \n",
    "    gaussian=gaussian_widget,\n",
    "    thresholds=threshold_widget, \n",
    "    min_axes=min_axes_widget, \n",
    "    plotter=fixed(pl), \n",
    "    spacing=fixed(ctscan.spacing)\n",
    ")\n",
    "pl.show()"
   ]
  }
 ],
 "metadata": {
  "kernelspec": {
   "display_name": "Python 3 (ipykernel)",
   "language": "python",
   "name": "python3"
  },
  "language_info": {
   "codemirror_mode": {
    "name": "ipython",
    "version": 3
   },
   "file_extension": ".py",
   "mimetype": "text/x-python",
   "name": "python",
   "nbconvert_exporter": "python",
   "pygments_lexer": "ipython3",
   "version": "3.13.2"
  }
 },
 "nbformat": 4,
 "nbformat_minor": 5
}
