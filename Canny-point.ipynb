{
 "cells": [
  {
   "cell_type": "markdown",
   "id": "3c41b10f-78ce-41fd-a27b-4aa302f49aff",
   "metadata": {},
   "source": [
    "## Installation\n",
    "Using Python 3.12:\n",
    "```\n",
    "conda install jupyter numpy pip opencv matplotlib scipy\n",
    "pip install pyvista[all]\n",
    "pip install OpenVisus\n",
    "python -m OpenVisus configure\n",
    "```\n",
    "Note: ignore errors during the \"configure\" process\n",
    "\n",
    "## Required data\n",
    "Download the following files to this directory:\n",
    "```\n",
    "HeadMRVolume.raw\n",
    "T2.raw\n",
    "ctscan_ez.vtk\n",
    "```"
   ]
  },
  {
   "cell_type": "code",
   "execution_count": null,
   "id": "0b83511a-2a5e-4510-8174-78fcc9595230",
   "metadata": {},
   "outputs": [],
   "source": [
    "import numpy as np\n",
    "import matplotlib.pyplot as plt\n",
    "import pyvista as pv\n",
    "import OpenVisus as ov\n",
    "\n",
    "from ipywidgets import fixed\n",
    "import ipywidgets as widgets\n",
    "\n",
    "from cannybase import get_edge_data"
   ]
  },
  {
   "cell_type": "code",
   "execution_count": null,
   "id": "7e7aa089-dd91-4500-8ca9-5d0ac78cdd3f",
   "metadata": {},
   "outputs": [],
   "source": [
    "def plot_volume(data, plotter=None, spacing=None):\n",
    "    if plotter is None:\n",
    "        plotter = pv.Plotter()\n",
    "    else:\n",
    "        plotter.clear()\n",
    "    mesh = pv.wrap(data)\n",
    "    if spacing:\n",
    "        mesh.spacing = spacing\n",
    "    plotter.add_volume(mesh)\n",
    "    return plotter"
   ]
  },
  {
   "cell_type": "code",
   "execution_count": null,
   "id": "f9a54481-adcc-4bce-abf7-40d941676274",
   "metadata": {},
   "outputs": [],
   "source": [
    "def interact_edge_data(data, thresholds, min_axes, gaussian, plotter, spacing=None):\n",
    "    print(f'\\rUpdating with {min_axes=}, {thresholds=}, {gaussian=}...', end='')\n",
    "    edge_data = get_edge_data(data, thresholds[0], thresholds[1], min_axes, gaussian)\n",
    "    plot_volume(edge_data, plotter, spacing)\n",
    "    print(f'\\rUpdated with {min_axes=}, {thresholds=}, {gaussian=}. Number of edge points: {edge_data.size - np.isnan(edge_data).sum()}.', end='')"
   ]
  },
  {
   "cell_type": "code",
   "execution_count": null,
   "id": "8dbc2996-0106-44cd-a09d-cdb29479c75b",
   "metadata": {},
   "outputs": [],
   "source": [
    "def make_widgets():\n",
    "    threshold_widget = widgets.IntRangeSlider(\n",
    "        min=0,\n",
    "        max=255,\n",
    "        value=(255,255),\n",
    "        description='Canny Thresholds'\n",
    "    )\n",
    "    min_axes_widget = widgets.IntSlider(\n",
    "        min=0,\n",
    "        max=3,\n",
    "        description='Min Axes'\n",
    "    )\n",
    "    gaussian_widget = widgets.FloatSlider(\n",
    "        min=0,\n",
    "        max=7,\n",
    "        value=0,\n",
    "        description='Gaussian SD'\n",
    "    )\n",
    "    return threshold_widget, min_axes_widget, gaussian_widget"
   ]
  },
  {
   "cell_type": "markdown",
   "id": "24399832-c5a2-4ddb-b963-617a5842556e",
   "metadata": {},
   "source": [
    "## `HeadMRVolume.raw`"
   ]
  },
  {
   "cell_type": "code",
   "execution_count": null,
   "id": "1e276658-e1f2-4ffb-8d2f-a4c223bf936e",
   "metadata": {},
   "outputs": [],
   "source": [
    "headmr_data = np.fromfile('HeadMRVolume.raw', dtype='uint8')\n",
    "headmr_data = headmr_data.reshape(42, 62, 48)"
   ]
  },
  {
   "cell_type": "markdown",
   "id": "b78c8e3d-384b-4018-b9a4-e1cdb51f7f6e",
   "metadata": {},
   "source": [
    "Original Data"
   ]
  },
  {
   "cell_type": "code",
   "execution_count": null,
   "id": "8f7da961-b743-4c3a-95d8-9d98ad20f83e",
   "metadata": {},
   "outputs": [],
   "source": [
    "pl = plot_volume(headmr_data)\n",
    "pl.show()"
   ]
  },
  {
   "cell_type": "markdown",
   "id": "c6caefcb-1ee4-4a96-9b2a-c5e66120ae76",
   "metadata": {},
   "source": [
    "Edges Only"
   ]
  },
  {
   "cell_type": "code",
   "execution_count": null,
   "id": "4f0f4cf3-5a4a-445b-97f5-9ffb2bebf3b0",
   "metadata": {},
   "outputs": [],
   "source": [
    "threshold_widget, min_axes_widget, gaussian_widget = make_widgets()\n",
    "pl = plot_volume(headmr_data)\n",
    "widgets.interact(\n",
    "    interact_edge_data, \n",
    "    data=fixed(headmr_data), \n",
    "    thresholds=threshold_widget, \n",
    "    min_axes=min_axes_widget, \n",
    "    gaussian=gaussian_widget,\n",
    "    plotter=fixed(pl), \n",
    "    spacing=fixed(None)\n",
    ")\n",
    "pl.show()"
   ]
  },
  {
   "cell_type": "markdown",
   "id": "b94a600a-1038-46e7-af0b-a35316f3278e",
   "metadata": {},
   "source": [
    "## `T2.raw`"
   ]
  },
  {
   "cell_type": "code",
   "execution_count": null,
   "id": "5a08ec89-fe07-40c0-9505-8b7b7c366ddc",
   "metadata": {},
   "outputs": [],
   "source": [
    "t2_data = np.fromfile('T2.raw', dtype='float32')\n",
    "t2_data = t2_data.reshape(320, 320, 256)"
   ]
  },
  {
   "cell_type": "markdown",
   "id": "010cb66f-9f15-464c-9c80-7fec168ee339",
   "metadata": {},
   "source": [
    "Original Data"
   ]
  },
  {
   "cell_type": "code",
   "execution_count": null,
   "id": "0b833278-8186-4960-aff3-6c624ed0a438",
   "metadata": {},
   "outputs": [],
   "source": [
    "pl = plot_volume(t2_data)\n",
    "pl.show()"
   ]
  },
  {
   "cell_type": "markdown",
   "id": "6cd5a8dc-f074-40f6-bb33-ad2b96e197de",
   "metadata": {},
   "source": [
    "Edges Only"
   ]
  },
  {
   "cell_type": "code",
   "execution_count": null,
   "id": "ee950ee8-7538-4e58-a807-fede81b651d1",
   "metadata": {},
   "outputs": [],
   "source": [
    "threshold_widget, min_axes_widget, gaussian_widget = make_widgets()\n",
    "pl = plot_volume(t2_data)\n",
    "widgets.interact(\n",
    "    interact_edge_data, \n",
    "    data=fixed(t2_data), \n",
    "    thresholds=threshold_widget, \n",
    "    min_axes=min_axes_widget, \n",
    "    gaussian=gaussian_widget,\n",
    "    plotter=fixed(pl), \n",
    "    spacing=fixed(None)\n",
    ")\n",
    "pl.show()"
   ]
  },
  {
   "cell_type": "markdown",
   "id": "8976c467-12d5-4997-b481-e5b13015f48c",
   "metadata": {},
   "source": [
    "## `ctscan_ez.vtk`"
   ]
  },
  {
   "cell_type": "code",
   "execution_count": null,
   "id": "73fe4999-f21c-49ec-a442-fa2088629953",
   "metadata": {},
   "outputs": [],
   "source": [
    "ctscan = pv.read('ctscan_ez.vtk')\n",
    "ctscan"
   ]
  },
  {
   "cell_type": "code",
   "execution_count": null,
   "id": "95316a33-a6dd-4764-8db9-80051871553e",
   "metadata": {},
   "outputs": [],
   "source": [
    "ctscan.dimensions"
   ]
  },
  {
   "cell_type": "markdown",
   "id": "62878478-8339-4c21-b0c8-773036fe39e3",
   "metadata": {},
   "source": [
    "Original Data"
   ]
  },
  {
   "cell_type": "code",
   "execution_count": null,
   "id": "3001bc9a-9110-45fd-aca3-947c3e30c9b0",
   "metadata": {},
   "outputs": [],
   "source": [
    "pl = pv.Plotter()\n",
    "pl.add_volume(ctscan)\n",
    "pl.show()"
   ]
  },
  {
   "cell_type": "code",
   "execution_count": null,
   "id": "d73a13fe-236f-4076-8f8d-502a7b18d9da",
   "metadata": {},
   "outputs": [],
   "source": [
    "# Get the underlying data as a Numpy array\n",
    "# PyVista stores the z-axis first, but we want the x-axis first in the Numpy array\n",
    "ctscan_data = ctscan.point_data['image_data'].reshape(ctscan.dimensions[2], ctscan.dimensions[1], ctscan.dimensions[0])\n",
    "ctscan_data = np.ndarray.copy(np.swapaxes(ctscan_data, 0, 2))"
   ]
  },
  {
   "cell_type": "markdown",
   "id": "353a15b2-62b2-4e4d-9bbf-aadbb03d054c",
   "metadata": {},
   "source": [
    "Edges Only"
   ]
  },
  {
   "cell_type": "code",
   "execution_count": null,
   "id": "dbd108b9-c798-4794-9fa3-3d9ab9e0b909",
   "metadata": {},
   "outputs": [],
   "source": [
    "threshold_widget, min_axes_widget, gaussian_widget = make_widgets()\n",
    "pl = plot_volume(ctscan_data, spacing=ctscan.spacing)\n",
    "widgets.interact(\n",
    "    interact_edge_data, \n",
    "    data=fixed(ctscan_data), \n",
    "    thresholds=threshold_widget, \n",
    "    min_axes=min_axes_widget, \n",
    "    gaussian=gaussian_widget,\n",
    "    plotter=fixed(pl), \n",
    "    spacing=fixed(ctscan.spacing)\n",
    ")\n",
    "pl.show()"
   ]
  },
  {
   "cell_type": "markdown",
   "id": "c666c4d6-d6d8-494f-a7d8-ebca9fa29f55",
   "metadata": {},
   "source": [
    "## Kingsnake"
   ]
  },
  {
   "cell_type": "code",
   "execution_count": null,
   "id": "4b1bb029-a632-44a1-900f-b377954959a6",
   "metadata": {},
   "outputs": [],
   "source": [
    "kingsnake_dataset = ov.load_dataset(\"https://klacansky.com/open-scivis-datasets/kingsnake/kingsnake.idx\", cache_dir=\".\")\n",
    "kingsnake_data = kingsnake_dataset.read(resolution=24)\n",
    "spacing = (0.0688, 0.03174, 0.03174)"
   ]
  },
  {
   "cell_type": "markdown",
   "id": "6b3b7603-9103-4c8b-a60e-cc021ffe6aea",
   "metadata": {},
   "source": [
    "Original Data"
   ]
  },
  {
   "cell_type": "code",
   "execution_count": null,
   "id": "08c02541-831c-439f-ad0f-9045e8d25050",
   "metadata": {},
   "outputs": [],
   "source": [
    "pl = plot_volume(kingsnake_data, spacing=spacing)\n",
    "pl.show()"
   ]
  },
  {
   "cell_type": "markdown",
   "id": "02e463e0-c24e-48fa-84f8-9acf631f8d39",
   "metadata": {},
   "source": [
    "Edges Only"
   ]
  },
  {
   "cell_type": "code",
   "execution_count": null,
   "id": "01c062d1-680f-4e10-8cce-0f00f66fd0f4",
   "metadata": {},
   "outputs": [],
   "source": [
    "threshold_widget, min_axes_widget, gaussian_widget = make_widgets()\n",
    "pl = plot_volume(kingsnake_data, spacing=spacing)\n",
    "widgets.interact(\n",
    "    interact_edge_data, \n",
    "    data=fixed(kingsnake_data), \n",
    "    thresholds=threshold_widget, \n",
    "    min_axes=min_axes_widget, \n",
    "    gaussian=gaussian_widget,\n",
    "    plotter=fixed(pl), \n",
    "    spacing=fixed(spacing)\n",
    ")\n",
    "pl.show()"
   ]
  },
  {
   "cell_type": "markdown",
   "id": "6770a479-bc96-4d59-81dd-f346522f5cb9",
   "metadata": {},
   "source": [
    "## Engine"
   ]
  },
  {
   "cell_type": "code",
   "execution_count": null,
   "id": "f2fd9a72-e563-4049-be5b-8d1d44d3fbef",
   "metadata": {},
   "outputs": [],
   "source": [
    "engine_dataset = ov.load_dataset(\"https://klacansky.com/open-scivis-datasets/engine/engine.idx\", cache_dir=\".\")\n",
    "engine_data = engine_dataset.read(resolution=23)"
   ]
  },
  {
   "cell_type": "markdown",
   "id": "69a04574-7487-4ab3-b623-184ae6c85d41",
   "metadata": {},
   "source": [
    "Original Data"
   ]
  },
  {
   "cell_type": "code",
   "execution_count": null,
   "id": "503ca41e-46a1-46a6-b74c-8174e02cc8b0",
   "metadata": {},
   "outputs": [],
   "source": [
    "pl = plot_volume(engine_data)\n",
    "pl.show()"
   ]
  },
  {
   "cell_type": "markdown",
   "id": "aec6cc08-ef61-4fef-a420-1658f5ea3612",
   "metadata": {},
   "source": [
    "Edges Only"
   ]
  },
  {
   "cell_type": "code",
   "execution_count": null,
   "id": "69030e11-3156-4648-83f9-57eccdb661ce",
   "metadata": {},
   "outputs": [],
   "source": [
    "threshold_widget, min_axes_widget, gaussian_widget = make_widgets()\n",
    "pl = plot_volume(engine_data, spacing=spacing)\n",
    "widgets.interact(\n",
    "    interact_edge_data, \n",
    "    data=fixed(engine_data), \n",
    "    thresholds=threshold_widget, \n",
    "    min_axes=min_axes_widget, \n",
    "    gaussian=gaussian_widget,\n",
    "    plotter=fixed(pl), \n",
    "    spacing=fixed(None)\n",
    ")\n",
    "pl.show()"
   ]
  },
  {
   "cell_type": "markdown",
   "id": "33ceadf2-61ef-4b65-b884-7d69c3cab292",
   "metadata": {},
   "source": [
    "## Bonsai"
   ]
  },
  {
   "cell_type": "code",
   "execution_count": null,
   "id": "2a74cafc-2aca-49fe-afd9-fdd51fae9a5e",
   "metadata": {},
   "outputs": [],
   "source": [
    "bonsai_dataset = ov.load_dataset(\"https://klacansky.com/open-scivis-datasets/bonsai/bonsai.idx\", cache_dir=\".\")\n",
    "bonsai_data = bonsai_dataset.read(resolution=24)"
   ]
  },
  {
   "cell_type": "markdown",
   "id": "4acdd2b4-455c-4ea7-b81e-4fee2bacc550",
   "metadata": {},
   "source": [
    "Original Data"
   ]
  },
  {
   "cell_type": "code",
   "execution_count": null,
   "id": "9aec3244-c378-49de-a3d6-dbb94891fc66",
   "metadata": {},
   "outputs": [],
   "source": [
    "pl = plot_volume(bonsai_data)\n",
    "pl.show()"
   ]
  },
  {
   "cell_type": "markdown",
   "id": "3324082d-1441-406a-be2a-ef4ae36c2099",
   "metadata": {},
   "source": [
    "Edges Only"
   ]
  },
  {
   "cell_type": "code",
   "execution_count": null,
   "id": "d6ac3563-4e47-4d74-b284-2321e476f7b6",
   "metadata": {},
   "outputs": [],
   "source": [
    "threshold_widget, min_axes_widget, gaussian_widget = make_widgets()\n",
    "pl = plot_volume(bonsai_data)\n",
    "widgets.interact(\n",
    "    interact_edge_data, \n",
    "    data=fixed(bonsai_data), \n",
    "    thresholds=threshold_widget, \n",
    "    min_axes=min_axes_widget, \n",
    "    gaussian=gaussian_widget,\n",
    "    plotter=fixed(pl), \n",
    "    spacing=fixed(None)\n",
    ")\n",
    "pl.show()"
   ]
  }
 ],
 "metadata": {
  "kernelspec": {
   "display_name": "Python 3 (ipykernel)",
   "language": "python",
   "name": "python3"
  },
  "language_info": {
   "codemirror_mode": {
    "name": "ipython",
    "version": 3
   },
   "file_extension": ".py",
   "mimetype": "text/x-python",
   "name": "python",
   "nbconvert_exporter": "python",
   "pygments_lexer": "ipython3",
   "version": "3.12.9"
  }
 },
 "nbformat": 4,
 "nbformat_minor": 5
}
