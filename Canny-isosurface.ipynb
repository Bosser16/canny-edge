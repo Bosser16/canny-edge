{
 "cells": [
  {
   "cell_type": "code",
   "execution_count": null,
   "id": "4c5a186b",
   "metadata": {},
   "outputs": [],
   "source": [
    "import numpy as np\n",
    "import matplotlib.pyplot as plt\n",
    "import pyvista as pv\n",
    "\n",
    "from ipywidgets import fixed\n",
    "import ipywidgets as widgets\n",
    "\n",
    "from cannybase import get_edge_data"
   ]
  },
  {
   "cell_type": "code",
   "execution_count": 110,
   "id": "e95b80ce",
   "metadata": {},
   "outputs": [],
   "source": [
    "def plot_contour(data, contour, plotter=None, spacing=None):\n",
    "    if plotter is None:\n",
    "        plotter = pv.Plotter()\n",
    "    else:\n",
    "        plotter.clear()\n",
    "    mesh = pv.wrap(data)\n",
    "    if spacing:\n",
    "        mesh.spacing = spacing\n",
    "    contour = mesh.contour([contour])\n",
    "    plotter.add_mesh(mesh.outline())\n",
    "    plotter.add_mesh(contour)\n",
    "    return plotter"
   ]
  },
  {
   "cell_type": "code",
   "execution_count": null,
   "id": "83ef38a0",
   "metadata": {},
   "outputs": [],
   "source": [
    "def interact_contour_edge_data(data, thresholds, min_axes, gaussian, contour, plotter, spacing=None):\n",
    "    print(f'\\rUpdating with {min_axes=}, {thresholds=}, {gaussian=}, {contour=}...', end='')\n",
    "    edge_data = get_edge_data(data, thresholds[0], thresholds[1], min_axes, gaussian)\n",
    "    plot_contour(edge_data, contour, plotter, spacing)\n",
    "    print(f'\\rUpdated with {min_axes=}, {thresholds=}, {gaussian=}, {contour=}. Number of edge points: {edge_data.size - np.isnan(edge_data).sum()}.', end='')"
   ]
  },
  {
   "cell_type": "code",
   "execution_count": 114,
   "id": "e0d3153b",
   "metadata": {},
   "outputs": [],
   "source": [
    "def make_widgets(con_min = 0, con_max = 255):\n",
    "    threshold_widget = widgets.IntRangeSlider(\n",
    "        min=0,\n",
    "        max=255,\n",
    "        value=(255,255),\n",
    "        description='Canny Thresholds'\n",
    "    )\n",
    "    min_axes_widget = widgets.IntSlider(\n",
    "        min=0,\n",
    "        max=3,\n",
    "        description='Min Axes'\n",
    "    )\n",
    "    gaussian_widget = widgets.FloatSlider(\n",
    "        min=0,\n",
    "        max=7,\n",
    "        value=0,\n",
    "        description='Gaussian SD'\n",
    "    )\n",
    "    contour_widget = widgets.FloatSlider(\n",
    "        min=con_min,\n",
    "        max=con_max,\n",
    "        value=50,\n",
    "        description='Contour Value'\n",
    "    )\n",
    "    return threshold_widget, min_axes_widget, gaussian_widget, contour_widget"
   ]
  },
  {
   "cell_type": "markdown",
   "id": "cec8e378",
   "metadata": {},
   "source": [
    "## `HeadMRVolume.raw`"
   ]
  },
  {
   "cell_type": "code",
   "execution_count": null,
   "id": "84f523fe",
   "metadata": {},
   "outputs": [
    {
     "name": "stderr",
     "output_type": "stream",
     "text": [
      "Exception raised\n",
      "ConnectionResetError('Cannot write to closing transport')\n",
      "Traceback (most recent call last):\n",
      "  File \"c:\\Users\\Boston Musgrave\\anaconda3\\Lib\\site-packages\\wslink\\protocol.py\", line 323, in onCompleteMessage\n",
      "    await self.sendWrappedMessage(\n",
      "  File \"c:\\Users\\Boston Musgrave\\anaconda3\\Lib\\site-packages\\wslink\\protocol.py\", line 427, in sendWrappedMessage\n",
      "    await ws.send_bytes(chunk)\n",
      "  File \"c:\\Users\\Boston Musgrave\\anaconda3\\Lib\\site-packages\\aiohttp\\web_ws.py\", line 394, in send_bytes\n",
      "    await self._writer.send(data, binary=True, compress=compress)\n",
      "  File \"c:\\Users\\Boston Musgrave\\anaconda3\\Lib\\site-packages\\aiohttp\\http_websocket.py\", line 724, in send\n",
      "    await self._send_frame(message, WSMsgType.BINARY, compress)\n",
      "  File \"c:\\Users\\Boston Musgrave\\anaconda3\\Lib\\site-packages\\aiohttp\\http_websocket.py\", line 676, in _send_frame\n",
      "    self._write(header)\n",
      "  File \"c:\\Users\\Boston Musgrave\\anaconda3\\Lib\\site-packages\\aiohttp\\http_websocket.py\", line 699, in _write\n",
      "    raise ConnectionResetError(\"Cannot write to closing transport\")\n",
      "ConnectionResetError: Cannot write to closing transport\n",
      "\n",
      "Error handling request\n",
      "Traceback (most recent call last):\n",
      "  File \"c:\\Users\\Boston Musgrave\\anaconda3\\Lib\\site-packages\\wslink\\protocol.py\", line 323, in onCompleteMessage\n",
      "    await self.sendWrappedMessage(\n",
      "  File \"c:\\Users\\Boston Musgrave\\anaconda3\\Lib\\site-packages\\wslink\\protocol.py\", line 427, in sendWrappedMessage\n",
      "    await ws.send_bytes(chunk)\n",
      "  File \"c:\\Users\\Boston Musgrave\\anaconda3\\Lib\\site-packages\\aiohttp\\web_ws.py\", line 394, in send_bytes\n",
      "    await self._writer.send(data, binary=True, compress=compress)\n",
      "  File \"c:\\Users\\Boston Musgrave\\anaconda3\\Lib\\site-packages\\aiohttp\\http_websocket.py\", line 724, in send\n",
      "    await self._send_frame(message, WSMsgType.BINARY, compress)\n",
      "  File \"c:\\Users\\Boston Musgrave\\anaconda3\\Lib\\site-packages\\aiohttp\\http_websocket.py\", line 676, in _send_frame\n",
      "    self._write(header)\n",
      "  File \"c:\\Users\\Boston Musgrave\\anaconda3\\Lib\\site-packages\\aiohttp\\http_websocket.py\", line 699, in _write\n",
      "    raise ConnectionResetError(\"Cannot write to closing transport\")\n",
      "ConnectionResetError: Cannot write to closing transport\n",
      "\n",
      "During handling of the above exception, another exception occurred:\n",
      "\n",
      "Traceback (most recent call last):\n",
      "  File \"c:\\Users\\Boston Musgrave\\anaconda3\\Lib\\site-packages\\aiohttp\\web_protocol.py\", line 462, in _handle_request\n",
      "    resp = await request_handler(request)\n",
      "           ^^^^^^^^^^^^^^^^^^^^^^^^^^^^^^\n",
      "  File \"c:\\Users\\Boston Musgrave\\anaconda3\\Lib\\site-packages\\aiohttp\\web_app.py\", line 537, in _handle\n",
      "    resp = await handler(request)\n",
      "           ^^^^^^^^^^^^^^^^^^^^^^\n",
      "  File \"c:\\Users\\Boston Musgrave\\anaconda3\\Lib\\site-packages\\wslink\\backends\\aiohttp\\__init__.py\", line 236, in handleWsRequest\n",
      "    await self.onMessage(is_binary(msg), msg, client_id)\n",
      "  File \"c:\\Users\\Boston Musgrave\\anaconda3\\Lib\\site-packages\\wslink\\protocol.py\", line 262, in onMessage\n",
      "    await self.onCompleteMessage(full_message, client_id)\n",
      "  File \"c:\\Users\\Boston Musgrave\\anaconda3\\Lib\\site-packages\\wslink\\protocol.py\", line 332, in onCompleteMessage\n",
      "    await self.sendWrappedError(\n",
      "  File \"c:\\Users\\Boston Musgrave\\anaconda3\\Lib\\site-packages\\wslink\\protocol.py\", line 463, in sendWrappedError\n",
      "    await ws.send_bytes(chunk)\n",
      "  File \"c:\\Users\\Boston Musgrave\\anaconda3\\Lib\\site-packages\\aiohttp\\web_ws.py\", line 394, in send_bytes\n",
      "    await self._writer.send(data, binary=True, compress=compress)\n",
      "  File \"c:\\Users\\Boston Musgrave\\anaconda3\\Lib\\site-packages\\aiohttp\\http_websocket.py\", line 724, in send\n",
      "    await self._send_frame(message, WSMsgType.BINARY, compress)\n",
      "  File \"c:\\Users\\Boston Musgrave\\anaconda3\\Lib\\site-packages\\aiohttp\\http_websocket.py\", line 679, in _send_frame\n",
      "    self._write(header + message)\n",
      "  File \"c:\\Users\\Boston Musgrave\\anaconda3\\Lib\\site-packages\\aiohttp\\http_websocket.py\", line 699, in _write\n",
      "    raise ConnectionResetError(\"Cannot write to closing transport\")\n",
      "ConnectionResetError: Cannot write to closing transport\n"
     ]
    }
   ],
   "source": [
    "headmr_data = np.fromfile('./local-data/HeadMRVolume.raw', dtype='uint8')\n",
    "headmr_data = headmr_data.reshape(42, 62, 48)"
   ]
  },
  {
   "cell_type": "code",
   "execution_count": null,
   "id": "76e627d0",
   "metadata": {},
   "outputs": [],
   "source": [
    "threshold_widget, min_axes_widget, gaussian_widget, contour_widget = make_widgets()\n",
    "pl = plot_contour(headmr_data, 50)\n",
    "widgets.interact(\n",
    "    interact_contour_edge_data, \n",
    "    data=fixed(headmr_data), \n",
    "    thresholds=threshold_widget, \n",
    "    min_axes=min_axes_widget, \n",
    "    gaussian=gaussian_widget,\n",
    "    contour=contour_widget,\n",
    "    plotter=fixed(pl), \n",
    "    spacing=fixed(None)\n",
    ")\n",
    "pl.show()"
   ]
  },
  {
   "cell_type": "code",
   "execution_count": null,
   "id": "8d1946b7",
   "metadata": {},
   "outputs": [],
   "source": [
    "t2_data = np.fromfile('./local-data/T2.raw', dtype='float32')\n",
    "t2_data = t2_data.reshape(320, 320, 256)"
   ]
  },
  {
   "cell_type": "code",
   "execution_count": null,
   "id": "3f6e5f15",
   "metadata": {},
   "outputs": [],
   "source": [
    "threshold_widget, min_axes_widget, gaussian_widget, contour_widget = make_widgets(np.min(t2_data), np.max(t2_data))\n",
    "pl = plot_contour(t2_data, 50)\n",
    "widgets.interact(\n",
    "    interact_contour_edge_data, \n",
    "    data=fixed(t2_data), \n",
    "    thresholds=threshold_widget, \n",
    "    min_axes=min_axes_widget, \n",
    "    gaussian=gaussian_widget,\n",
    "    contour=contour_widget,\n",
    "    plotter=fixed(pl), \n",
    "    spacing=fixed(None)\n",
    ")\n",
    "pl.show()"
   ]
  },
  {
   "cell_type": "code",
   "execution_count": 105,
   "id": "9dac41ea",
   "metadata": {},
   "outputs": [],
   "source": [
    "ctscan = pv.read('./local-data/ctscan_ez.vtk')\n",
    "ctscan_data = ctscan.point_data['image_data'].reshape(ctscan.dimensions[2], ctscan.dimensions[1], ctscan.dimensions[0])\n",
    "ctscan_data = np.ndarray.copy(np.swapaxes(ctscan_data, 0, 2))"
   ]
  },
  {
   "cell_type": "code",
   "execution_count": 115,
   "id": "205e168d",
   "metadata": {},
   "outputs": [
    {
     "data": {
      "application/vnd.jupyter.widget-view+json": {
       "model_id": "23c815fa2580455c8b2b46c0a132375e",
       "version_major": 2,
       "version_minor": 0
      },
      "text/plain": [
       "interactive(children=(IntRangeSlider(value=(255, 255), description='Canny Thresholds', max=255), IntSlider(val…"
      ]
     },
     "metadata": {},
     "output_type": "display_data"
    },
    {
     "data": {
      "application/vnd.jupyter.widget-view+json": {
       "model_id": "416e081442404a96b94adcac61a17f0b",
       "version_major": 2,
       "version_minor": 0
      },
      "text/plain": [
       "Widget(value='<iframe src=\"http://localhost:61952/index.html?ui=P_0x1ddbd5adfd0_64&reconnect=auto\" class=\"pyvi…"
      ]
     },
     "metadata": {},
     "output_type": "display_data"
    }
   ],
   "source": [
    "threshold_widget, min_axes_widget, gaussian_widget, contour_widget = make_widgets(np.min(ctscan_data), np.max(ctscan_data))\n",
    "pl = plot_contour(ctscan_data, spacing=ctscan.spacing, contour=50)\n",
    "widgets.interact(\n",
    "    interact_contour_edge_data, \n",
    "    data=fixed(ctscan_data), \n",
    "    thresholds=threshold_widget, \n",
    "    min_axes=min_axes_widget, \n",
    "    gaussian=gaussian_widget,\n",
    "    contour=contour_widget,\n",
    "    plotter=fixed(pl), \n",
    "    spacing=fixed(ctscan.spacing)\n",
    ")\n",
    "pl.show()"
   ]
  }
 ],
 "metadata": {
  "kernelspec": {
   "display_name": "base",
   "language": "python",
   "name": "python3"
  },
  "language_info": {
   "codemirror_mode": {
    "name": "ipython",
    "version": 3
   },
   "file_extension": ".py",
   "mimetype": "text/x-python",
   "name": "python",
   "nbconvert_exporter": "python",
   "pygments_lexer": "ipython3",
   "version": "3.12.3"
  }
 },
 "nbformat": 4,
 "nbformat_minor": 5
}
