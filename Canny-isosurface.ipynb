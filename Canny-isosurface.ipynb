{
 "cells": [
  {
   "cell_type": "code",
   "execution_count": 117,
   "id": "4c5a186b",
   "metadata": {},
   "outputs": [],
   "source": [
    "import numpy as np\n",
    "import matplotlib.pyplot as plt\n",
    "import pyvista as pv\n",
    "\n",
    "from ipywidgets import fixed\n",
    "import ipywidgets as widgets\n",
    "\n",
    "from cannybase import get_edge_data"
   ]
  },
  {
   "cell_type": "code",
   "execution_count": 150,
   "id": "e95b80ce",
   "metadata": {},
   "outputs": [],
   "source": [
    "def plot_contour(data, contour, plotter=None, spacing=None):\n",
    "    if plotter is None:\n",
    "        plotter = pv.Plotter()\n",
    "    else:\n",
    "        plotter.clear()\n",
    "    mesh = pv.wrap(data)\n",
    "    if spacing:\n",
    "        mesh.spacing = spacing\n",
    "    contour = mesh.contour([contour])\n",
    "    light = pv.Light(position=(10, 10, 10), focal_point=(0, 0, 0), color='white', intensity=1.0)\n",
    "    light2 = pv.Light(position=(-10, -10, -10), focal_point=(0, 0, 0), color='white', intensity=1.0)\n",
    "    light3= pv.Light(position=(10, 0, 0), focal_point=(0, 0, 0), color='white', intensity=1.0)\n",
    "    light4= pv.Light(position=(0, 0, 10), focal_point=(0, 0, 0), color='white', intensity=1.0)\n",
    "    plotter.add_mesh(mesh.outline())\n",
    "    plotter.add_light(light)\n",
    "    plotter.add_light(light2)\n",
    "    plotter.add_light(light3)\n",
    "    plotter.add_light(light4)\n",
    "    plotter.add_mesh(contour, show_scalar_bar=False)\n",
    "    return plotter"
   ]
  },
  {
   "cell_type": "code",
   "execution_count": 119,
   "id": "83ef38a0",
   "metadata": {},
   "outputs": [],
   "source": [
    "def interact_contour_edge_data(data, thresholds, min_axes, gaussian, contour, plotter, spacing=None):\n",
    "    print(f'\\rUpdating with {min_axes=}, {thresholds=}, {gaussian=}, {contour=}...', end='')\n",
    "    edge_data = get_edge_data(data, thresholds[0], thresholds[1], min_axes, gaussian)\n",
    "    plot_contour(edge_data, contour, plotter, spacing)\n",
    "    print(f'\\rUpdated with {min_axes=}, {thresholds=}, {gaussian=}, {contour=}. Number of edge points: {edge_data.size - np.isnan(edge_data).sum()}.', end='')"
   ]
  },
  {
   "cell_type": "code",
   "execution_count": 120,
   "id": "e0d3153b",
   "metadata": {},
   "outputs": [],
   "source": [
    "def make_widgets(con_min = 0, con_max = 255):\n",
    "    threshold_widget = widgets.IntRangeSlider(\n",
    "        min=0,\n",
    "        max=255,\n",
    "        value=(255,255),\n",
    "        description='Canny Thresholds'\n",
    "    )\n",
    "    min_axes_widget = widgets.IntSlider(\n",
    "        min=0,\n",
    "        max=3,\n",
    "        description='Min Axes'\n",
    "    )\n",
    "    gaussian_widget = widgets.FloatSlider(\n",
    "        min=0,\n",
    "        max=7,\n",
    "        value=0,\n",
    "        description='Gaussian SD'\n",
    "    )\n",
    "    contour_widget = widgets.FloatSlider(\n",
    "        min=con_min,\n",
    "        max=con_max,\n",
    "        value=50,\n",
    "        description='Contour Value'\n",
    "    )\n",
    "    return threshold_widget, min_axes_widget, gaussian_widget, contour_widget"
   ]
  },
  {
   "cell_type": "markdown",
   "id": "cec8e378",
   "metadata": {},
   "source": [
    "## `HeadMRVolume.raw`"
   ]
  },
  {
   "cell_type": "code",
   "execution_count": 121,
   "id": "84f523fe",
   "metadata": {},
   "outputs": [],
   "source": [
    "headmr_data = np.fromfile('./local-data/HeadMRVolume.raw', dtype='uint8')\n",
    "headmr_data = headmr_data.reshape(42, 62, 48)"
   ]
  },
  {
   "cell_type": "code",
   "execution_count": null,
   "id": "76e627d0",
   "metadata": {},
   "outputs": [
    {
     "data": {
      "application/vnd.jupyter.widget-view+json": {
       "model_id": "77ad5144bc694c7a99e30f89b0d6ad4e",
       "version_major": 2,
       "version_minor": 0
      },
      "text/plain": [
       "interactive(children=(IntRangeSlider(value=(255, 255), description='Canny Thresholds', max=255), IntSlider(val…"
      ]
     },
     "metadata": {},
     "output_type": "display_data"
    },
    {
     "data": {
      "application/vnd.jupyter.widget-view+json": {
       "model_id": "5c937ce4694c4944a1556379c00d9e90",
       "version_major": 2,
       "version_minor": 0
      },
      "text/plain": [
       "Widget(value='<iframe src=\"http://localhost:61952/index.html?ui=P_0x1de333d12b0_76&reconnect=auto\" class=\"pyvi…"
      ]
     },
     "metadata": {},
     "output_type": "display_data"
    }
   ],
   "source": [
    "threshold_widget, min_axes_widget, gaussian_widget, contour_widget = make_widgets()\n",
    "pl = plot_contour(headmr_data, 50)\n",
    "widgets.interact(\n",
    "    interact_contour_edge_data, \n",
    "    data=fixed(headmr_data), \n",
    "    thresholds=threshold_widget, \n",
    "    min_axes=min_axes_widget, \n",
    "    gaussian=gaussian_widget,\n",
    "    contour=contour_widget,\n",
    "    plotter=fixed(pl), \n",
    "    spacing=fixed(None)\n",
    ")\n",
    "pl.show()"
   ]
  },
  {
   "cell_type": "markdown",
   "id": "502f6914",
   "metadata": {},
   "source": [
    "# `T2.raw`"
   ]
  },
  {
   "cell_type": "code",
   "execution_count": 123,
   "id": "8d1946b7",
   "metadata": {},
   "outputs": [],
   "source": [
    "t2_data = np.fromfile('./local-data/T2.raw', dtype='float32')\n",
    "t2_data = t2_data.reshape(320, 320, 256)"
   ]
  },
  {
   "cell_type": "code",
   "execution_count": 146,
   "id": "3f6e5f15",
   "metadata": {},
   "outputs": [
    {
     "data": {
      "application/vnd.jupyter.widget-view+json": {
       "model_id": "38826faadc1c40a880cc48b394d8cde2",
       "version_major": 2,
       "version_minor": 0
      },
      "text/plain": [
       "interactive(children=(IntRangeSlider(value=(255, 255), description='Canny Thresholds', max=255), IntSlider(val…"
      ]
     },
     "metadata": {},
     "output_type": "display_data"
    },
    {
     "data": {
      "application/vnd.jupyter.widget-view+json": {
       "model_id": "ed5eec45edd14650a72dd48259eb5cdf",
       "version_major": 2,
       "version_minor": 0
      },
      "text/plain": [
       "Widget(value='<iframe src=\"http://localhost:61952/index.html?ui=P_0x1ddc2d624e0_77&reconnect=auto\" class=\"pyvi…"
      ]
     },
     "metadata": {},
     "output_type": "display_data"
    }
   ],
   "source": [
    "threshold_widget, min_axes_widget, gaussian_widget, contour_widget = make_widgets(np.min(t2_data), np.max(t2_data))\n",
    "pl = plot_contour(t2_data, 50)\n",
    "widgets.interact(\n",
    "    interact_contour_edge_data, \n",
    "    data=fixed(t2_data), \n",
    "    thresholds=threshold_widget, \n",
    "    min_axes=min_axes_widget, \n",
    "    gaussian=gaussian_widget,\n",
    "    contour=contour_widget,\n",
    "    plotter=fixed(pl), \n",
    "    spacing=fixed(None)\n",
    ")\n",
    "pl.show()"
   ]
  },
  {
   "cell_type": "markdown",
   "id": "6575c939",
   "metadata": {},
   "source": [
    "# `ctscan_ez.vtk`"
   ]
  },
  {
   "cell_type": "code",
   "execution_count": 105,
   "id": "9dac41ea",
   "metadata": {},
   "outputs": [],
   "source": [
    "ctscan = pv.read('./local-data/ctscan_ez.vtk')\n",
    "ctscan_data = ctscan.point_data['image_data'].reshape(ctscan.dimensions[2], ctscan.dimensions[1], ctscan.dimensions[0])\n",
    "ctscan_data = np.ndarray.copy(np.swapaxes(ctscan_data, 0, 2))"
   ]
  },
  {
   "cell_type": "code",
   "execution_count": 151,
   "id": "205e168d",
   "metadata": {},
   "outputs": [
    {
     "data": {
      "application/vnd.jupyter.widget-view+json": {
       "model_id": "180ba9f4f56b4d8d85734ad3c7f3da55",
       "version_major": 2,
       "version_minor": 0
      },
      "text/plain": [
       "interactive(children=(IntRangeSlider(value=(255, 255), description='Canny Thresholds', max=255), IntSlider(val…"
      ]
     },
     "metadata": {},
     "output_type": "display_data"
    },
    {
     "data": {
      "application/vnd.jupyter.widget-view+json": {
       "model_id": "535ce1c13e5c41049e9bef9ef7f6af58",
       "version_major": 2,
       "version_minor": 0
      },
      "text/plain": [
       "Widget(value='<iframe src=\"http://localhost:61952/index.html?ui=P_0x1dd15897bf0_80&reconnect=auto\" class=\"pyvi…"
      ]
     },
     "metadata": {},
     "output_type": "display_data"
    }
   ],
   "source": [
    "threshold_widget, min_axes_widget, gaussian_widget, contour_widget = make_widgets(np.min(ctscan_data), np.max(ctscan_data))\n",
    "pl = plot_contour(ctscan_data, spacing=ctscan.spacing, contour=50)\n",
    "widgets.interact(\n",
    "    interact_contour_edge_data, \n",
    "    data=fixed(ctscan_data), \n",
    "    thresholds=threshold_widget, \n",
    "    min_axes=min_axes_widget, \n",
    "    gaussian=gaussian_widget,\n",
    "    contour=contour_widget,\n",
    "    plotter=fixed(pl), \n",
    "    spacing=fixed(ctscan.spacing)\n",
    ")\n",
    "pl.show()"
   ]
  }
 ],
 "metadata": {
  "kernelspec": {
   "display_name": "base",
   "language": "python",
   "name": "python3"
  },
  "language_info": {
   "codemirror_mode": {
    "name": "ipython",
    "version": 3
   },
   "file_extension": ".py",
   "mimetype": "text/x-python",
   "name": "python",
   "nbconvert_exporter": "python",
   "pygments_lexer": "ipython3",
   "version": "3.12.3"
  }
 },
 "nbformat": 4,
 "nbformat_minor": 5
}
